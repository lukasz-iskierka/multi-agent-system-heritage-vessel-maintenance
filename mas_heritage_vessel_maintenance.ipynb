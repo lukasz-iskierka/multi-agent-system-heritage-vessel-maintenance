{
 "cells": [
  {
   "cell_type": "markdown",
   "id": "ef0ef0a2",
   "metadata": {
    "deletable": false,
    "editable": false,
    "nbgrader": {
     "cell_type": "markdown",
     "checksum": "d8fe12ca1de909bec7e8a0e4f4e5ded9",
     "grade": false,
     "grade_id": "cell-a30f4f103fff525e",
     "locked": true,
     "schema_version": 3,
     "solution": false,
     "task": false
    },
    "tags": []
   },
   "source": [
    "# Multi-agent System for Historic Vessel Maintenance\n",
    "\n",
    "## Introduction\n",
    "\n",
    "In this practice project, I simulate a real-life scenario where I am tasked with the development of an LLM Multi-agent System for automation of the process to determine whether and when the SS Great Britain requires maintenance.\n",
    "\n",
    "The SS Great Britain, launched in 1843, is a revolutionary iron steamship designed by Isambard Kingdom Brunel. Now preserved as a museum ship in Bristol's Great Western Dockyard, this historic vessel requires continuous monitoring and maintenance to preserve its structural integrity and historical authenticity.\n",
    "\n",
    "Credits: This project was inspired by an original problem designed by dr Marco Perez Hernandez. <br>\n",
    "Data: Mock data for SS Great Britain inspection reports was generated with Claude Sonet 4.0 by Anthropic. All names of inspectors and any possible resemblance to actual persons is not intentional.\n",
    "\n",
    "\n",
    "## Problem description\n",
    "\n",
    "Although the ship is a complex structure with multiple interconnected systems, for this practice, I focus the system's analysis on three critical engineering perspectives across different sections of the vessel.\n",
    "Marine heritage consultancies regularly inspect the condition of the ship and, at the end of their work, they submit inspection reports indicating their observations. The explored LLM MAS leverages the capabilities of LLMs to process these documents while organising and extracting the relevant information, aiding the end-user in their recommendation of a timeframe for the ship's maintenance.\n",
    "\n",
    "### Ship Sections for Inspection\n",
    "\n",
    "**Hull Sections:**\n",
    "\n",
    "Forward Hull - Bow area including the figurehead and forward plating<br>\n",
    "Midship Hull - Central section housing the engine room and main structural elements<br>\n",
    "Aft Hull - Stern section including the propeller housing and rudder assembly<br>\n",
    "\n",
    "**Superstructure Sections:**\n",
    "\n",
    "Upper Deck - Main deck level including masts, rigging points, and deck structures<br>\n",
    "Lower Deck - Passenger and cargo areas below the main deck<br>\n",
    "Engine Room - Historic steam engine and related machinery spaces<br>\n",
    "\n",
    "### Engineering Perspectives\n",
    "\n",
    "**Structural Integrity:**\n",
    "Focuses on the iron hull plating, rivets, frames, and load-bearing elements. This perspective examines:\n",
    "\n",
    "* Hull plate corrosion and thickness measurements\n",
    "* Rivet condition and structural joint integrity\n",
    "* Frame deformation and stress analysis\n",
    "* Watertight bulkhead condition\n",
    "\n",
    "**Corrosion Management:**\n",
    "Specialises in the preservation of iron and steel components against marine corrosion. This perspective covers:\n",
    "\n",
    "* Surface rust classification and progression\n",
    "* Protective coating effectiveness\n",
    "* Galvanic corrosion at dissimilar metal joints\n",
    "* Environmental exposure assessment\n",
    "\n",
    "**Conservation Engineering:**\n",
    "Addresses the unique requirements of preserving historic maritime artifacts while maintaining structural safety. This includes:\n",
    "\n",
    "* Original material preservation vs. replacement decisions\n",
    "* Historical authenticity of repair methods and materials\n",
    "* Visitor safety integration with heritage preservation\n",
    "* Climate control effectiveness in preservation areas\n",
    "\n",
    "### Typical Inspection Schedule\n",
    "\n",
    "| Company | Section Inspected | Perspective Focus | Date | Frequency |\n",
    "|---------|------------------|-------------------|------|-----------|\n",
    "| Marine Heritage Structural Ltd. | Forward Hull | Structural Integrity | 22-March-2025 | Quarterly |\n",
    "| Corrosion Control Maritime Services | Midship Hull | Corrosion Management | 15-February-2025 | Bi-annually |\n",
    "| Historic Preservation Engineering Ltd. | Upper Deck | Conservation Engineering | 08-January-2025 | Annually |\n",
    "| Deep Hull Maritime Surveys | Aft Hull | Structural Integrity | 28-February-2025 | Quarterly |\n",
    "| Engine Room Heritage Technical Services | Engine Room | Conservation Engineering | 12-March-2025 | Annually |\n",
    "\n",
    "\n",
    "## Main objective\n",
    "\n",
    "This system enables automated processing of complex inspection data while maintaining the specialised knowledge required for historic vessel preservation."
   ]
  },
  {
   "cell_type": "markdown",
   "id": "406a3fe5",
   "metadata": {},
   "source": [
    "### Workflow Design\n",
    "\n",
    "\n",
    "\n",
    "1) ``Document Extracting Agent``: extracts key insights from the reports\n",
    "2) ``Evaluating Agent / Decission point``: the agent evaluates the insights extracted from the reports. If the insights meet requirements, the workflow continues, otherwise it goes back to the ``Document Extracting Agenteener``.\n",
    "3) ``Orchestrator``: tasked with organising the insights, related to the condition of the ship by section and according to the three perspectives: \n",
    "    - *corrosion_management* \n",
    "    - *conservation_engineering* \n",
    "    - *structural_integrity*. \n",
    "4) ``Decission point``: assigning a specialist to each perspective of assessment\n",
    "5) ``Assess Condition Agent``: takes the specific details for its perspective of interest and assesses the ship condition.\n",
    "6) ``Synthesiser Agent``: uses the insight regarding corrosion management, conservation engineering and structural integrity to provide a maintenance timeframe."
   ]
  },
  {
   "cell_type": "markdown",
   "id": "52d220c7",
   "metadata": {},
   "source": [
    "## The System"
   ]
  },
  {
   "cell_type": "markdown",
   "id": "8b7ad0d3",
   "metadata": {},
   "source": [
    "### Tools"
   ]
  },
  {
   "cell_type": "code",
   "execution_count": 72,
   "id": "db7f93bc-aa6a-4eb1-a152-c8d3280240d9",
   "metadata": {
    "deletable": false,
    "editable": false,
    "nbgrader": {
     "cell_type": "code",
     "checksum": "e9b2b94d854292ea03fd384ff146effa",
     "grade": false,
     "grade_id": "cell-917dd767d387c5cd",
     "locked": true,
     "schema_version": 3,
     "solution": false,
     "task": false
    },
    "tags": []
   },
   "outputs": [],
   "source": [
    "# Core langchain types of messages\n",
    "from langchain_core.messages import HumanMessage, SystemMessage\n",
    "# from langchain_core.tools import tool\n",
    "from langchain_core.tools import StructuredTool\n",
    "\n",
    "# For LangGraph workflow functionality\n",
    "from langgraph.graph import MessagesState\n",
    "from langgraph.graph import StateGraph, START, END\n",
    "from langgraph.graph.message import add_messages\n",
    "from langgraph.types import Send\n",
    "\n",
    "# Google Generative AI integration \n",
    "from langchain_google_genai import ChatGoogleGenerativeAI\n",
    "\n",
    "# Other tools\n",
    "import os, operator\n",
    "from typing import Annotated, List, Literal\n",
    "from typing_extensions import TypedDict\n",
    "from pydantic import BaseModel, Field\n",
    "from IPython.display import Image, display\n"
   ]
  },
  {
   "cell_type": "markdown",
   "id": "5c263ddf",
   "metadata": {
    "deletable": false,
    "editable": false,
    "nbgrader": {
     "cell_type": "markdown",
     "checksum": "574e5fc198617e102eb7ff8b47d9b1a8",
     "grade": false,
     "grade_id": "cell-e07ffa55c8549c7c",
     "locked": true,
     "schema_version": 3,
     "solution": false,
     "task": false
    },
    "tags": []
   },
   "source": [
    "### API Keys\n",
    "\n",
    "In this project, I have used Google Gemini model. You can obtain your own key from [here](https://aistudio.google.com/app/apikey). This API_KEY is unique and you should use it for your development."
   ]
  },
  {
   "cell_type": "code",
   "execution_count": null,
   "id": "a4f79881-fbd4-432b-9775-c50623dda7c9",
   "metadata": {
    "deletable": false,
    "nbgrader": {
     "cell_type": "code",
     "checksum": "a531b25ee8a2d5320a84911be19ae209",
     "grade": false,
     "grade_id": "cell-323af08ff4506ba3",
     "locked": false,
     "schema_version": 3,
     "solution": true,
     "task": false
    },
    "tags": []
   },
   "outputs": [],
   "source": [
    "API_KEY = \"YOUR_KEY_HERE\" # Substitute this with your own API key\n",
    "\n",
    "os.environ['GOOGLE_API_KEY'] = API_KEY "
   ]
  },
  {
   "cell_type": "markdown",
   "id": "b16e894d",
   "metadata": {
    "deletable": false,
    "editable": false,
    "nbgrader": {
     "cell_type": "markdown",
     "checksum": "d9acd42b596a5dc5ccecf4a8e595c010",
     "grade": false,
     "grade_id": "cell-227fd9946af74a6f",
     "locked": true,
     "schema_version": 3,
     "solution": false,
     "task": false
    },
    "tags": []
   },
   "source": [
    "I choose **gemini-2.0-flash** LLM instance for the model's free tier, advanced capabilities over many tasks and special usefulness in agentic systems, as described [here.](https://ai.google.dev/gemini-api/docs/pricing)"
   ]
  },
  {
   "cell_type": "code",
   "execution_count": 74,
   "id": "a5f6a9d0",
   "metadata": {
    "deletable": false,
    "editable": false,
    "nbgrader": {
     "cell_type": "code",
     "checksum": "ef6fe099a21f0d60d2bac082690957bb",
     "grade": false,
     "grade_id": "cell-dad313f8bedac0dc",
     "locked": true,
     "schema_version": 3,
     "solution": false,
     "task": false
    },
    "tags": []
   },
   "outputs": [],
   "source": [
    "llm = ChatGoogleGenerativeAI(model=\"gemini-2.0-flash\")"
   ]
  },
  {
   "cell_type": "markdown",
   "id": "602a3e6a",
   "metadata": {},
   "source": [
    "### Loading the Reports "
   ]
  },
  {
   "cell_type": "code",
   "execution_count": 75,
   "id": "9a2a00ec-b243-44b6-a2ca-b6a9c0dc4faa",
   "metadata": {
    "deletable": false,
    "editable": false,
    "nbgrader": {
     "cell_type": "code",
     "checksum": "1817370225d8efcb2b1c7a76b1ce142e",
     "grade": false,
     "grade_id": "cell-d11aa13f35e35c7c",
     "locked": true,
     "schema_version": 3,
     "solution": false,
     "task": false
    },
    "tags": []
   },
   "outputs": [],
   "source": [
    "# Set the path to the report files\n",
    "data_path = \"./data/\"\n",
    "\n",
    "# Reads all the .md files in data folder and stores them in a list of tuples with the name and the content of the file\n",
    "def read_data():\n",
    "    docs = []\n",
    "    for file in os.listdir(data_path):\n",
    "       \n",
    "        if file.endswith('.md'):\n",
    "            with open(os.path.join(data_path, file)) as f:\n",
    "                docs.append((file, f.read()))\n",
    "    return docs\n",
    "\n",
    "\n",
    "docs = read_data()"
   ]
  },
  {
   "cell_type": "markdown",
   "id": "1adc78b9",
   "metadata": {
    "deletable": false,
    "editable": false,
    "nbgrader": {
     "cell_type": "markdown",
     "checksum": "30c5be840e94a9417598dd1b4a2ed987",
     "grade": false,
     "grade_id": "cell-b0cdd90f0d073a8d",
     "locked": true,
     "schema_version": 3,
     "solution": false,
     "task": false
    },
    "tags": []
   },
   "source": [
    "### Data Structures\n",
    "\n",
    "I define data structures for SS Great Britain inspection workflow that processes reports through specialised agents.\n",
    "``ClassifiedCondition`` and ``ClassifiedConditionList`` store extracted insights classified by ship section and engineering perspective (*corrosion_management*, *conservation_engineering* and *structural_integrity*). Since I'm using parallel processing, I need both global and local states: ``ConditionState`` provides local state for individual specialist agents, while ``Condition`` stores their final assessments with expert ratings.\n",
    "My main workflow state (``State``) tracks documents, tasks, and outputs from each agent. The condition attribute uses ``Annotated[list, operator.add]`` to merge results from parallel specialist agents automatically."
   ]
  },
  {
   "cell_type": "code",
   "execution_count": 76,
   "id": "a99804e7",
   "metadata": {
    "deletable": false,
    "editable": false,
    "nbgrader": {
     "cell_type": "code",
     "checksum": "849806f3312b5bb68cf2591a89b6638f",
     "grade": false,
     "grade_id": "cell-fd561d49f7374764",
     "locked": true,
     "schema_version": 3,
     "solution": false,
     "task": false
    },
    "tags": []
   },
   "outputs": [],
   "source": [
    "# Define types to classify insights extracted from the reports, according to the ship section and engineering perspective\n",
    "class ClassifiedCondition(BaseModel):\n",
    "    condition_details: str = Field(\n",
    "        description=\"Condition Details of the ship classified by engineering perspective.\",\n",
    "    )\n",
    "    perspective: str = Field(\n",
    "        description=\"The specialist linked to the perspective of ship condition, just a single word e.g. corrosion, structural, conservation\",\n",
    "    )\n",
    "    section: str = Field(\n",
    "        description=\"The section or component the condition refers to, e.g. forward hull, aft hull, engine room, etc \",\n",
    "    )\n",
    "\n",
    "class ClassifiedConditionList(BaseModel):\n",
    "    classified_condition_list: List[ClassifiedCondition] = Field(\n",
    "        description=\"Condition Details of the ship classified by engineering perspective.\",\n",
    "    )\n",
    "\n",
    "# Define local condition state (relevant for the engineering perspective)\n",
    "class ConditionState(BaseModel):\n",
    "    condition:str = Field(\n",
    "        description=\"Summary condition of the ship by engineering perspective.\",\n",
    "    )\n",
    "    perspective: str = Field(\n",
    "        description=\"Engineering perspective.\",\n",
    "    )\n",
    "\n",
    "# Define global condition state forthe entire workflow\n",
    "class Condition(BaseModel):\n",
    "    summary_condition:str = Field(\n",
    "        description=\"Summary condition of the ship by engineering perspective.\",\n",
    "    )\n",
    "    perspective: str = Field(\n",
    "        description=\"Engineering perspective.\",\n",
    "    )\n",
    "    rating_condition: str = Field(\n",
    "        description=\"Rating of condition in scale 0 to 2.\",\n",
    "    )\n",
    "\n",
    "# Define main data structure\n",
    "class State(TypedDict):\n",
    "    docs: str\n",
    "    task: str\n",
    "    insights: str\n",
    "    assessment: str\n",
    "    result: str\n",
    "    classified_condition_list:ClassifiedConditionList\n",
    "    condition:Annotated[list,operator.add]"
   ]
  },
  {
   "cell_type": "markdown",
   "id": "d1f63103",
   "metadata": {
    "deletable": false,
    "editable": false,
    "nbgrader": {
     "cell_type": "markdown",
     "checksum": "7d4af70691d936fdd777b0bcf0b2339d",
     "grade": false,
     "grade_id": "cell-4c4516517a15bc4b",
     "locked": true,
     "schema_version": 3,
     "solution": false,
     "task": false
    },
    "tags": []
   },
   "source": [
    "### Extracting Agent"
   ]
  },
  {
   "cell_type": "code",
   "execution_count": 77,
   "id": "79fcbe05-564e-4eab-b741-19a944efad15",
   "metadata": {
    "deletable": false,
    "editable": false,
    "nbgrader": {
     "cell_type": "code",
     "checksum": "059f24bb4c58beb6876f087d47973461",
     "grade": false,
     "grade_id": "cell-0366bd9aa9d561e4",
     "locked": true,
     "schema_version": 3,
     "solution": false,
     "task": false
    },
    "tags": []
   },
   "outputs": [],
   "source": [
    "def doc_extracting_agent(state: State) :\n",
    "    \"\"\"Extract key insights from documents for the task \"\"\"\n",
    "\n",
    "    base_prompt = f\"Concise but complete answer, no introduction. Extract key insights from: {state['docs']} to {state['task']}\"\n",
    "    \n",
    "    if state.get(\"feedback\"):\n",
    "        msg = llm.invoke(\n",
    "            f\"{base_prompt} and taking into account the feedback: {state['feedback']}\"\n",
    "        )\n",
    "    else:\n",
    "        msg = llm.invoke(base_prompt)\n",
    "\n",
    "    return { \"insights\": msg.content }"
   ]
  },
  {
   "cell_type": "code",
   "execution_count": 78,
   "id": "1a58a638",
   "metadata": {
    "deletable": false,
    "editable": false,
    "nbgrader": {
     "cell_type": "code",
     "checksum": "607b3314a267054a46dd56a41ea3aabb",
     "grade": false,
     "grade_id": "cell-a52f678507c391d0",
     "locked": true,
     "schema_version": 3,
     "solution": false,
     "task": false
    },
    "tags": []
   },
   "outputs": [],
   "source": [
    "insight_requirements=\"concise, relevant, well supported and organised per perspective of condition of the ship, i.e. corrosion management, structural integrity and conservation engineering.\"\n",
    "\n",
    "prompt_feedback = \"Assessment that insights extracted for the task are \"\n",
    "\n",
    "class Feedback(BaseModel):\n",
    "    result: Literal[\"Strong\", \"Weak\"] = Field(\n",
    "        description=f\"{prompt_feedback} {insight_requirements}\",\n",
    "    )\n",
    "    rationale: str = Field(\n",
    "        description=\"The rationale for the assessment\",\n",
    "    )\n",
    "\n",
    "evaluator = llm.with_structured_output(Feedback)"
   ]
  },
  {
   "cell_type": "markdown",
   "id": "cc00cd62",
   "metadata": {},
   "source": [
    "### Evaluating Agent"
   ]
  },
  {
   "cell_type": "code",
   "execution_count": 79,
   "id": "79e5b881-7376-4fba-8145-c255677a2948",
   "metadata": {
    "deletable": false,
    "editable": false,
    "nbgrader": {
     "cell_type": "code",
     "checksum": "efb60d5faade752d4da96c0388006913",
     "grade": false,
     "grade_id": "cell-18879db71e0b7933",
     "locked": true,
     "schema_version": 3,
     "solution": false,
     "task": false
    },
    "tags": []
   },
   "outputs": [],
   "source": [
    "def evaluating_agent(state:State):\n",
    "    \"\"\"Evaluate the insights extracted from the documents for the task\"\"\"\n",
    "\n",
    "    assessment = evaluator.invoke(f\"Check the insights: {state['insights']} are {insight_requirements} for {state['task']} and concisely explain why\")\n",
    "\n",
    "    return { \"result\": assessment.result, \"rationale\": assessment.rationale }\n"
   ]
  },
  {
   "cell_type": "markdown",
   "id": "404f5c84",
   "metadata": {
    "deletable": false,
    "editable": false,
    "nbgrader": {
     "cell_type": "markdown",
     "checksum": "55050c8f4908f7ab16ae3365e0b7036b",
     "grade": false,
     "grade_id": "cell-0ddc9ca84cda9561",
     "locked": true,
     "schema_version": 3,
     "solution": false,
     "task": false
    },
    "tags": []
   },
   "source": [
    "### Orchestrator Agent"
   ]
  },
  {
   "cell_type": "code",
   "execution_count": 80,
   "id": "b536476a-52ed-425b-8515-fad0a315ad81",
   "metadata": {
    "deletable": false,
    "editable": false,
    "nbgrader": {
     "cell_type": "code",
     "checksum": "68c424dbd8e892c8d923c0bf5dd665bf",
     "grade": false,
     "grade_id": "cell-8761ddd6c019e32b",
     "locked": true,
     "schema_version": 3,
     "solution": false,
     "task": false
    },
    "tags": []
   },
   "outputs": [],
   "source": [
    "splitter =  llm.with_structured_output(ClassifiedConditionList)\n",
    "\n",
    "\n",
    "def orchestrator(state: State):\n",
    "    \"\"\"Orchestrator that organises the insights related to the condition of the ship by perspective and section\"\"\"\n",
    "    \n",
    "    orchestrator_prompt = f\"\"\"Extract condition details per section of the ship from the insights {state['insights']} \n",
    "    and organise into unique engineering perspectives (corrosion management, structural integrity and conservation engineering). \n",
    "    Multiple condition details can be assigned to the same perspective. There is a specialist type of engineer related to each perspective.\"\"\"\n",
    "    \n",
    "    result = splitter.invoke(orchestrator_prompt)\n",
    "\n",
    "    return {\"classified_condition_list\":result.classified_condition_list} "
   ]
  },
  {
   "cell_type": "markdown",
   "id": "a0870025",
   "metadata": {
    "deletable": false,
    "editable": false,
    "nbgrader": {
     "cell_type": "markdown",
     "checksum": "94a06a49a52cb39904b6d0825616e66b",
     "grade": false,
     "grade_id": "cell-fc2ba0f928126035",
     "locked": true,
     "schema_version": 3,
     "solution": false,
     "task": false
    },
    "tags": []
   },
   "source": [
    "### Decision Point\n",
    "\n",
    "Necessary to route the workflow depending on the LLM's output quality."
   ]
  },
  {
   "cell_type": "code",
   "execution_count": 81,
   "id": "1cbda725-e385-411f-87c7-0f422c48e27e",
   "metadata": {
    "deletable": false,
    "editable": false,
    "nbgrader": {
     "cell_type": "code",
     "checksum": "f9ade9a4ac0541db180da206946f985c",
     "grade": false,
     "grade_id": "cell-5d8c201c847d3f10",
     "locked": true,
     "schema_version": 3,
     "solution": false,
     "task": false
    },
    "tags": []
   },
   "outputs": [],
   "source": [
    "def route_task(state: State):\n",
    "    \"\"\"route the task to the appropriate function\"\"\"\n",
    "    result = state.get(\"result\")\n",
    "    output = \"Rejected + Feedback\"\n",
    "    if result == \"Strong\":\n",
    "        output =  \"Accepted\"\n",
    "\n",
    "    return output"
   ]
  },
  {
   "cell_type": "markdown",
   "id": "1194ea12",
   "metadata": {},
   "source": [
    "### Assign Specialist"
   ]
  },
  {
   "cell_type": "code",
   "execution_count": 82,
   "id": "02fad537-56de-4d4c-a5bc-a043719d6b29",
   "metadata": {
    "deletable": false,
    "nbgrader": {
     "cell_type": "code",
     "checksum": "cc89d8721066e3128cc8e5f9861c19b5",
     "grade": false,
     "grade_id": "cell-5561cc2815ae36f4",
     "locked": false,
     "schema_version": 3,
     "solution": true,
     "task": false
    },
    "tags": []
   },
   "outputs": [],
   "source": [
    "def assign_specialists(state: State):\n",
    "    \"\"\"Assign a specialist to each engineering perspective of assessment\"\"\"\n",
    "    \n",
    "    # Group classified_condition_list by perspective\n",
    "    grouped_classified_condition_list = {}\n",
    "\n",
    "    # Access each condition from the list of conditions\n",
    "    for classified_condition in state[\"classified_condition_list\"]:\n",
    "        \n",
    "        # Check if the perspective already doesn't exist in the dictionary\n",
    "        if not classified_condition.perspective in grouped_classified_condition_list:    \n",
    "            # Create the key with empty list for the perspective\n",
    "            grouped_classified_condition_list[classified_condition.perspective] = []\n",
    "            \n",
    "        # Append the classified_condition under the given engineering perspective    \n",
    "        grouped_classified_condition_list[classified_condition.perspective].append(classified_condition)\n",
    "    \n",
    "    return [Send(\"assess_condition\", \n",
    "                 {\"condition\": grouped_classified_condition_list[s], \"perspective\":s}) for s in grouped_classified_condition_list.keys()]"
   ]
  },
  {
   "cell_type": "markdown",
   "id": "e18e70b6",
   "metadata": {
    "deletable": false,
    "editable": false,
    "nbgrader": {
     "cell_type": "markdown",
     "checksum": "66b5df3593a1bf0b162d24f4055956a8",
     "grade": false,
     "grade_id": "cell-f8e82f01e327f459",
     "locked": true,
     "schema_version": 3,
     "solution": false,
     "task": false
    },
    "tags": []
   },
   "source": [
    "### Assess Condition Agent\n",
    "\n",
    "This agent takes the specific details for its perspective of interest and assesses the ship condition."
   ]
  },
  {
   "cell_type": "code",
   "execution_count": 83,
   "id": "e7740803-20ab-48db-82a4-e4e61fdb1bcc",
   "metadata": {
    "deletable": false,
    "editable": false,
    "nbgrader": {
     "cell_type": "code",
     "checksum": "23c03b6d03eda446d3d306eaff37a0cf",
     "grade": false,
     "grade_id": "cell-bc1b6358c4e2eaf0",
     "locked": true,
     "schema_version": 3,
     "solution": false,
     "task": false
    },
    "tags": []
   },
   "outputs": [],
   "source": [
    "def assess_condition(state: ConditionState):\n",
    "    \"\"\"Assess the condition of the asset from each perspective\"\"\"\n",
    "\n",
    "    condition_details = state[\"condition\"]\n",
    "    condition_details = \"\\n\".join([f\"- {cd}\" for cd in condition_details])\n",
    "\n",
    "    response = llm.with_structured_output(Condition).invoke(\n",
    "        [\n",
    "            SystemMessage(\n",
    "                content=f\"Assess the condition of the entire ship from condition_details: {condition_details}.\"\n",
    "            ),\n",
    "            HumanMessage(\n",
    "                content=f\" From the perspective of {state['perspective']}\"\n",
    "            ),\n",
    "        ]\n",
    "    )\n",
    "\n",
    "    return {\"condition\": [response]}"
   ]
  },
  {
   "cell_type": "markdown",
   "id": "2004404a",
   "metadata": {},
   "source": [
    "### Synthesizer Agent"
   ]
  },
  {
   "cell_type": "code",
   "execution_count": 84,
   "id": "132f81c1-2256-453c-a332-1632aa754b66",
   "metadata": {
    "deletable": false,
    "nbgrader": {
     "cell_type": "code",
     "checksum": "9907568ec010aca8d89a1cccbfd0c19f",
     "grade": false,
     "grade_id": "cell-c24ee99e7084ba34",
     "locked": false,
     "schema_version": 3,
     "solution": true,
     "task": false
    },
    "tags": []
   },
   "outputs": [],
   "source": [
    "def synthesizer(state: State):\n",
    "    \"\"\"Synthesise condition of the ship. It calls the LLM to determine the maintenance timeframe given the state of the ship\"\"\"\n",
    "\n",
    "    # List of condition of the ship by perspective\n",
    "    condition = state[\"condition\"]\n",
    "\n",
    "    output = \"\"\n",
    "\n",
    "    # Go through each condition\n",
    "    for c in condition:\n",
    "        \n",
    "        # Take each perspective, add its summary and rating and store in output\n",
    "        output += f\"Engineering perspective: {c.perspective}, Condition: {c.summary_condition} Rating of condition: {c.rating_condition}\\n\"\n",
    "\n",
    "    prompt = f\"\"\"Given insights regarding corrosion management, structural integrity and conservation engineering, determine maintenance timeframe given the state: {output}. \n",
    "    Consider exactly three perspectives: corrosion management, structural integrity, conservation engineering. When determining maintenance timeframe recommendations clearly \n",
    "    state if the ship requires immediate attention or if current schedule is enough and potential repairs can wait.\"\"\"\n",
    "    \n",
    "    result = llm.invoke(prompt)\n",
    "  \n",
    "    return result"
   ]
  },
  {
   "cell_type": "markdown",
   "id": "566bdd85",
   "metadata": {},
   "source": [
    "### Defining the Workflow Graph"
   ]
  },
  {
   "cell_type": "code",
   "execution_count": 85,
   "id": "5a40f537-a9da-4d6e-9e08-b2fd93dd9ba8",
   "metadata": {
    "deletable": false,
    "nbgrader": {
     "cell_type": "code",
     "checksum": "6efcdd17241f0ffea4fba6bcfdf6fc9c",
     "grade": false,
     "grade_id": "cell-47c3ea5acde9b2ef",
     "locked": false,
     "schema_version": 3,
     "solution": true,
     "task": false
    },
    "tags": []
   },
   "outputs": [],
   "source": [
    "mas_workflow = StateGraph(State)\n",
    "\n",
    "## Add nodes\n",
    "\n",
    "mas_workflow.add_node(\"doc_extracting_agent\", doc_extracting_agent)\n",
    "mas_workflow.add_node(\"evaluating_agent\", evaluating_agent)\n",
    "mas_workflow.add_node(\"orchestrator\", orchestrator)\n",
    "mas_workflow.add_node(\"assess_condition\", assess_condition)\n",
    "mas_workflow.add_node(\"synthesizer\", synthesizer)\n",
    "\n",
    "##  Add edges\n",
    "\n",
    "mas_workflow.add_edge(START, \"doc_extracting_agent\")\n",
    "mas_workflow.add_edge(\"doc_extracting_agent\", \"evaluating_agent\")\n",
    "mas_workflow.add_conditional_edges(\"evaluating_agent\", \n",
    "                                   route_task,\n",
    "                                   {\n",
    "                                       \"Accepted\": \"orchestrator\", \n",
    "                                       \"Rejected + Feedback\": \"doc_extracting_agent\"\n",
    "                                   }\n",
    "                                  )\n",
    "mas_workflow.add_conditional_edges(\n",
    "    \"orchestrator\", assign_specialists, [\"assess_condition\"]\n",
    ")\n",
    "mas_workflow.add_edge(\"assess_condition\", \"synthesizer\")\n",
    "mas_workflow.add_edge(\"synthesizer\", END)\n",
    "\n",
    "\n",
    "# Compile the workflow\n",
    "compiled_wf = None\n",
    "\n",
    "compiled_wf = mas_workflow.compile()"
   ]
  },
  {
   "cell_type": "markdown",
   "id": "663d65ef",
   "metadata": {
    "deletable": false,
    "editable": false,
    "nbgrader": {
     "cell_type": "markdown",
     "checksum": "d651aa2343c2241c7edb59db10aea4d6",
     "grade": false,
     "grade_id": "cell-006a2333afb70fb5",
     "locked": true,
     "schema_version": 3,
     "solution": false,
     "task": false
    },
    "tags": []
   },
   "source": [
    "Display the multi-agent workflow:"
   ]
  },
  {
   "cell_type": "code",
   "execution_count": 86,
   "id": "53c723e0-c680-45ae-bd98-dbf945eb30b3",
   "metadata": {
    "deletable": false,
    "editable": false,
    "nbgrader": {
     "cell_type": "code",
     "checksum": "64585ae2d1f400b478eaacc1e70edceb",
     "grade": false,
     "grade_id": "cell-7392eb39bbcdbfa0",
     "locked": true,
     "schema_version": 3,
     "solution": false,
     "task": false
    },
    "tags": []
   },
   "outputs": [
    {
     "data": {
      "image/png": "[encoded data removed]",
      "text/plain": [
       "<IPython.core.display.Image object>"
      ]
     },
     "metadata": {},
     "output_type": "display_data"
    }
   ],
   "source": [
    "try:\n",
    "    display(Image(compiled_wf.get_graph().draw_mermaid_png()))\n",
    "except Exception:\n",
    "    pass"
   ]
  },
  {
   "cell_type": "markdown",
   "id": "4c1d8720",
   "metadata": {
    "deletable": false,
    "editable": false,
    "nbgrader": {
     "cell_type": "markdown",
     "checksum": "f2f7a36e4fe1c7ef44f9cfc5230c76bd",
     "grade": false,
     "grade_id": "cell-d3bb842a3bc29352",
     "locked": true,
     "schema_version": 3,
     "solution": false,
     "task": false
    },
    "tags": []
   },
   "source": [
    "## Testing the MAS"
   ]
  },
  {
   "cell_type": "code",
   "execution_count": 87,
   "id": "689415d7-c96a-459f-a3c5-a14edd6ce06b",
   "metadata": {
    "deletable": false,
    "editable": false,
    "nbgrader": {
     "cell_type": "code",
     "checksum": "b8257a307eae570ffc170e3be4c71b5c",
     "grade": false,
     "grade_id": "cell-7e1b1921dbb7cc10",
     "locked": true,
     "schema_version": 3,
     "solution": false,
     "task": false
    },
    "tags": []
   },
   "outputs": [],
   "source": [
    "# main task prompt\n",
    "task_prompt = \"Determine maintenance timeframe for SS Great Britain based on corrosion management, structural integrity and conservation engineering at March 2025\"\n",
    "\n",
    "response = compiled_wf.invoke({\"docs\": docs,\"task\": task_prompt})"
   ]
  },
  {
   "cell_type": "code",
   "execution_count": 88,
   "id": "659a60c6",
   "metadata": {},
   "outputs": [
    {
     "name": "stdout",
     "output_type": "stream",
     "text": [
      "Perspective: corrosion management\n",
      "Summary: Address galvanic corrosion at the propeller shaft bearing, Spot-repair coating holidays on the midship hull\n",
      "--------------------------------------------------\n",
      "Perspective: structural integrity\n",
      "Summary: The ship requires some structural work, continue monitoring hull plating and stern frame.\n",
      "--------------------------------------------------\n",
      "Perspective: conservation engineering\n",
      "Summary: Schedule deep cleaning of less accessible engine room areas\n",
      "--------------------------------------------------\n"
     ]
    }
   ],
   "source": [
    "# Present the MAS output\n",
    "for condition in response[\"condition\"]:\n",
    "    print(f\"Perspective: {condition.perspective}\")\n",
    "    print(f\"Summary: {condition.summary_condition}\")\n",
    "    print(\"-\" * 50)"
   ]
  },
  {
   "cell_type": "markdown",
   "id": "491f2488",
   "metadata": {},
   "source": [
    "## Summary\n",
    "\n",
    "The multi-agent system successfully demonstrates its core functionality in processing domain-specific inspection reports and extracting structured insights for maintenance decision-making. The system effectively handles complex engineering terminology, quantitative measurements, and multi-perspective analysis across structural integrity, corrosion management, and conservation engineering domains.\n",
    "\n",
    "**Key Achievements:**\n",
    "- Automated extraction and categorisation of technical findings from unstructured inspection reports\n",
    "- Successful integration of multiple engineering perspectives into coherent maintenance recommendations\n",
    "- Effective handling of domain-specific terminology and measurement standards\n",
    "- Demonstration of scalable architecture for processing multiple inspection sources\n",
    "\n",
    "**Limitations and Future Work:**\n",
    "The current evaluation relies primarily on LLM-generated mock data, which may not capture the full complexity and inconsistencies present in real-world inspection reports. Real inspection documents often contain:\n",
    "- Inconsistent formatting and terminology across different inspection companies\n",
    "- Incomplete or missing data sections\n",
    "\n",
    "**Future Improvements:**\n",
    "- Implementation of confidence scoring for extracted insights\n",
    "- Development of robust error handling for incomplete or incosistent input data\n",
    "- Validation with authentic inspection reports from maritime heritage organisations (if available)\n",
    "- Extended testing across different vessel types and real inspection methodologies (if available)"
   ]
  }
 ],
 "metadata": {
  "kernelspec": {
   "display_name": "multi_agent",
   "language": "python",
   "name": "python3"
  },
  "language_info": {
   "codemirror_mode": {
    "name": "ipython",
    "version": 3
   },
   "file_extension": ".py",
   "mimetype": "text/x-python",
   "name": "python",
   "nbconvert_exporter": "python",
   "pygments_lexer": "ipython3",
   "version": "3.13.5"
  }
 },
 "nbformat": 4,
 "nbformat_minor": 5
}
